{
 "cells": [
  {
   "cell_type": "code",
   "execution_count": 7,
   "id": "dfbeb502",
   "metadata": {},
   "outputs": [
    {
     "name": "stdout",
     "output_type": "stream",
     "text": [
      "Enter the capacity of JUG-1       :7\n",
      "Enter the capacity of JUG-2       :9\n",
      "Enter the capacity to be achieved :5\n",
      "[[0, 0], [0, 9], [7, 2], [7, 9], [7, 0], [0, 7], [7, 7], [5, 9]]\n",
      "Time Taken by the algorithm :  1.0100607872009277\n"
     ]
    }
   ],
   "source": [
    "import time\n",
    "\n",
    "def gcd(a,b):\n",
    "    if a == 0:\n",
    "        return b\n",
    "    return gcd(b%a, a)\n",
    "\n",
    "jug1 = int(input(\"Enter the capacity of JUG-1       :\"))\n",
    "jug2 = int(input(\"Enter the capacity of JUG-2       :\"))\n",
    "goal = int(input(\"Enter the capacity to be achieved :\"))\n",
    "\n",
    "start=time.time()\n",
    "\n",
    "path = []\n",
    "queue = []\n",
    "queue.append([0,0])\n",
    "visited = []\n",
    "\n",
    "time.sleep(1)\n",
    "if goal % gcd(jug1,jug2) == 0:\n",
    "    while(not (not queue)):\n",
    "        state = queue.pop()\n",
    "        x = state[0]\n",
    "        y = state[1]\n",
    "        path.append(state)\n",
    "        if x == goal or y == goal:\n",
    "            print(path)\n",
    "\n",
    "        if x < jug1 and ([jug1, y] not in visited):\n",
    "            queue.append([jug1, y])\n",
    "            visited.append([jug1, y])\n",
    "\n",
    "        if y < jug2 and ([x, jug2] not in visited):\n",
    "            queue.append([x, jug2])\n",
    "            visited.append([x, jug2])\n",
    "\n",
    "        if x > jug1 and ([0, y] not in visited):\n",
    "            queue.append([0, y])\n",
    "            visited.append([0, y])\n",
    "\n",
    "        if y > jug2 and ([jug1, 0] not in visited):\n",
    "            queue.append([jug1, 0])\n",
    "            visited.append([jug1, 0])\n",
    "\n",
    "        if y > 0 and ([min(x + y, jug1), max(0, x + y - jug1)] not in visited):\n",
    "            queue.append([min(x + y, jug1), max(0, x + y - jug1)])\n",
    "            visited.append([min(x + y, jug1), max(0, x + y - jug1)])\n",
    "\n",
    "        if x > 0  and ([max(0, x + y - jug2), min(x + y, jug2)] not in visited):\n",
    "            queue.append([max(0, x + y - jug2), min(x + y, jug2)])\n",
    "            visited.append([max(0, x + y - jug2), min(x + y, jug2)])\n",
    "else:\n",
    "    print(\"No solution found.\")\n",
    "end=time.time()\n",
    "print(\"Time Taken by the algorithm : \",end-start)"
   ]
  },
  {
   "cell_type": "code",
   "execution_count": null,
   "id": "200d017f",
   "metadata": {},
   "outputs": [],
   "source": []
  }
 ],
 "metadata": {
  "kernelspec": {
   "display_name": "Python 3",
   "language": "python",
   "name": "python3"
  },
  "language_info": {
   "codemirror_mode": {
    "name": "ipython",
    "version": 3
   },
   "file_extension": ".py",
   "mimetype": "text/x-python",
   "name": "python",
   "nbconvert_exporter": "python",
   "pygments_lexer": "ipython3",
   "version": "3.8.8"
  }
 },
 "nbformat": 4,
 "nbformat_minor": 5
}
